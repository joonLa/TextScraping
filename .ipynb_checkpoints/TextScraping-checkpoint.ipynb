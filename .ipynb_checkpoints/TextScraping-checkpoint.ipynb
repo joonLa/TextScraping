{
 "cells": [
  {
   "cell_type": "code",
   "execution_count": null,
   "metadata": {
    "collapsed": true
   },
   "outputs": [],
   "source": [
    "#1. O#1. Open Github Desktop.\n",
    "#2. Right click the project TextScraping.\n",
    "#3. Click Open in Terminal.\n",
    "#4. Type 'jupyter notebook'.\n",
    "#5. Find this notebook from the directory."
   ]
  }
 ],
 "metadata": {
  "anaconda-cloud": {},
  "kernelspec": {
   "display_name": "Python [conda root]",
   "language": "python",
   "name": "conda-root-py"
  },
  "language_info": {
   "codemirror_mode": {
    "name": "ipython",
    "version": 2
   },
   "file_extension": ".py",
   "mimetype": "text/x-python",
   "name": "python",
   "nbconvert_exporter": "python",
   "pygments_lexer": "ipython2",
   "version": "2.7.12"
  }
 },
 "nbformat": 4,
 "nbformat_minor": 1
}
